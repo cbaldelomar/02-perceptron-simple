{
 "cells": [
  {
   "cell_type": "code",
   "execution_count": 20,
   "id": "576d401b",
   "metadata": {},
   "outputs": [],
   "source": [
    "import sys\n",
    "\n",
    "sys.path.append(\"../libs\")\n",
    "\n",
    "import neuronas\n",
    "import importlib\n",
    "import pandas as pd\n",
    "import matplotlib.pyplot as plt\n",
    "import numpy as np\n",
    "\n",
    "importlib.reload(neuronas)\n",
    "\n",
    "from neuronas import NeuronaPerceptron"
   ]
  },
  {
   "cell_type": "code",
   "execution_count": 6,
   "id": "dfcbf619",
   "metadata": {},
   "outputs": [],
   "source": [
    "df_casas = pd.read_csv(\"../data/houses1_dataset.csv\")"
   ]
  },
  {
   "cell_type": "code",
   "execution_count": 4,
   "id": "15b2ab9a",
   "metadata": {},
   "outputs": [
    {
     "data": {
      "image/png": "[encoded data removed]",
      "text/plain": [
       "<Figure size 1500x500 with 3 Axes>"
      ]
     },
     "metadata": {},
     "output_type": "display_data"
    }
   ],
   "source": [
    "fig, (ax1, ax2, ax3) = plt.subplots(nrows=1, ncols=3, figsize=(15, 5))\n",
    "\n",
    "ax1.hist(df_casas.Area)\n",
    "ax2.hist(df_casas.Precio)\n",
    "\n",
    "#colores = df_casas['Decision'].map({'Comprar': 'blue', 'No_Comprar': 'red'})\n",
    "ax3.scatter(df_casas.Area, df_casas.Precio) #, c=colores\n",
    "\n",
    "fig.get_tight_layout()\n",
    "plt.show()"
   ]
  },
  {
   "cell_type": "code",
   "execution_count": 7,
   "id": "654fa9f3",
   "metadata": {},
   "outputs": [],
   "source": [
    "df_casas['Precio_'] = (df_casas.Precio - min(df_casas.Precio)) / (max(df_casas.Precio) - min(df_casas.Precio))\n",
    "\n",
    "df_casas['Area_'] = (df_casas.Area - min(df_casas.Area)) / (max(df_casas.Area) - min(df_casas.Area))\n",
    "\n",
    "df_casas['Decision_'] = df_casas.Decision.map({'Comprar': 1, 'No_Comprar': 0})"
   ]
  },
  {
   "cell_type": "code",
   "execution_count": 8,
   "id": "69bdb3b4",
   "metadata": {},
   "outputs": [
    {
     "data": {
      "application/vnd.microsoft.datawrangler.viewer.v0+json": {
       "columns": [
        {
         "name": "index",
         "rawType": "int64",
         "type": "integer"
        },
        {
         "name": "Precio_",
         "rawType": "float64",
         "type": "float"
        },
        {
         "name": "Area_",
         "rawType": "float64",
         "type": "float"
        }
       ],
       "ref": "bba8bd5c-5b48-4a34-a6be-b2598d606203",
       "rows": [
        [
         "0",
         "0.2077160176718381",
         "0.5592417061611374"
        ],
        [
         "1",
         "0.27169680468509194",
         "0.7630331753554502"
        ],
        [
         "2",
         "0.23333504572074387",
         "0.9289099526066351"
        ]
       ],
       "shape": {
        "columns": 2,
        "rows": 3
       }
      },
      "text/html": [
       "<div>\n",
       "<style scoped>\n",
       "    .dataframe tbody tr th:only-of-type {\n",
       "        vertical-align: middle;\n",
       "    }\n",
       "\n",
       "    .dataframe tbody tr th {\n",
       "        vertical-align: top;\n",
       "    }\n",
       "\n",
       "    .dataframe thead th {\n",
       "        text-align: right;\n",
       "    }\n",
       "</style>\n",
       "<table border=\"1\" class=\"dataframe\">\n",
       "  <thead>\n",
       "    <tr style=\"text-align: right;\">\n",
       "      <th></th>\n",
       "      <th>Precio_</th>\n",
       "      <th>Area_</th>\n",
       "    </tr>\n",
       "  </thead>\n",
       "  <tbody>\n",
       "    <tr>\n",
       "      <th>0</th>\n",
       "      <td>0.207716</td>\n",
       "      <td>0.559242</td>\n",
       "    </tr>\n",
       "    <tr>\n",
       "      <th>1</th>\n",
       "      <td>0.271697</td>\n",
       "      <td>0.763033</td>\n",
       "    </tr>\n",
       "    <tr>\n",
       "      <th>2</th>\n",
       "      <td>0.233335</td>\n",
       "      <td>0.928910</td>\n",
       "    </tr>\n",
       "  </tbody>\n",
       "</table>\n",
       "</div>"
      ],
      "text/plain": [
       "    Precio_     Area_\n",
       "0  0.207716  0.559242\n",
       "1  0.271697  0.763033\n",
       "2  0.233335  0.928910"
      ]
     },
     "execution_count": 8,
     "metadata": {},
     "output_type": "execute_result"
    }
   ],
   "source": [
    "df_casas.iloc[:3, [3, 4]]"
   ]
  },
  {
   "cell_type": "code",
   "execution_count": 9,
   "id": "2f9726bf",
   "metadata": {},
   "outputs": [
    {
     "data": {
      "application/vnd.microsoft.datawrangler.viewer.v0+json": {
       "columns": [
        {
         "name": "index",
         "rawType": "int64",
         "type": "integer"
        },
        {
         "name": "Precio_",
         "rawType": "float64",
         "type": "float"
        },
        {
         "name": "Area_",
         "rawType": "float64",
         "type": "float"
        }
       ],
       "ref": "1ed79054-d8d8-41b5-939f-bdc5c1d9822a",
       "rows": [
        [
         "0",
         "0.2077160176718381",
         "0.5592417061611374"
        ],
        [
         "1",
         "0.27169680468509194",
         "0.7630331753554502"
        ],
        [
         "2",
         "0.23333504572074387",
         "0.9289099526066351"
        ]
       ],
       "shape": {
        "columns": 2,
        "rows": 3
       }
      },
      "text/html": [
       "<div>\n",
       "<style scoped>\n",
       "    .dataframe tbody tr th:only-of-type {\n",
       "        vertical-align: middle;\n",
       "    }\n",
       "\n",
       "    .dataframe tbody tr th {\n",
       "        vertical-align: top;\n",
       "    }\n",
       "\n",
       "    .dataframe thead th {\n",
       "        text-align: right;\n",
       "    }\n",
       "</style>\n",
       "<table border=\"1\" class=\"dataframe\">\n",
       "  <thead>\n",
       "    <tr style=\"text-align: right;\">\n",
       "      <th></th>\n",
       "      <th>Precio_</th>\n",
       "      <th>Area_</th>\n",
       "    </tr>\n",
       "  </thead>\n",
       "  <tbody>\n",
       "    <tr>\n",
       "      <th>0</th>\n",
       "      <td>0.207716</td>\n",
       "      <td>0.559242</td>\n",
       "    </tr>\n",
       "    <tr>\n",
       "      <th>1</th>\n",
       "      <td>0.271697</td>\n",
       "      <td>0.763033</td>\n",
       "    </tr>\n",
       "    <tr>\n",
       "      <th>2</th>\n",
       "      <td>0.233335</td>\n",
       "      <td>0.928910</td>\n",
       "    </tr>\n",
       "  </tbody>\n",
       "</table>\n",
       "</div>"
      ],
      "text/plain": [
       "    Precio_     Area_\n",
       "0  0.207716  0.559242\n",
       "1  0.271697  0.763033\n",
       "2  0.233335  0.928910"
      ]
     },
     "execution_count": 9,
     "metadata": {},
     "output_type": "execute_result"
    }
   ],
   "source": [
    "df_casas.loc[:2, [\"Precio_\", \"Area_\"]]"
   ]
  },
  {
   "cell_type": "code",
   "execution_count": 10,
   "id": "0dd70c7c",
   "metadata": {},
   "outputs": [
    {
     "data": {
      "text/plain": [
       "array([[0.20771602, 0.55924171],\n",
       "       [0.2716968 , 0.76303318],\n",
       "       [0.23333505, 0.92890995]])"
      ]
     },
     "execution_count": 10,
     "metadata": {},
     "output_type": "execute_result"
    }
   ],
   "source": [
    "df_casas.loc[:2, [\"Precio_\", \"Area_\"]].to_numpy()"
   ]
  },
  {
   "cell_type": "code",
   "execution_count": 11,
   "id": "1daca6d6",
   "metadata": {},
   "outputs": [
    {
     "data": {
      "text/plain": [
       "array([0.20771602, 0.55924171, 0.2716968 , 0.76303318, 0.23333505,\n",
       "       0.92890995])"
      ]
     },
     "execution_count": 11,
     "metadata": {},
     "output_type": "execute_result"
    }
   ],
   "source": [
    "df_casas.loc[:2, [\"Precio_\", \"Area_\"]].to_numpy().flatten()"
   ]
  },
  {
   "cell_type": "code",
   "execution_count": 23,
   "id": "8620fe38",
   "metadata": {},
   "outputs": [
    {
     "data": {
      "text/plain": [
       "array([0.20771602, 0.55924171])"
      ]
     },
     "execution_count": 23,
     "metadata": {},
     "output_type": "execute_result"
    }
   ],
   "source": [
    "df_casas.loc[0:0, ['Precio_', 'Area_']].to_numpy().flatten()"
   ]
  },
  {
   "cell_type": "code",
   "execution_count": null,
   "id": "fcf136d2",
   "metadata": {},
   "outputs": [
    {
     "data": {
      "text/plain": [
       "1"
      ]
     },
     "execution_count": 23,
     "metadata": {},
     "output_type": "execute_result"
    }
   ],
   "source": [
    "perceptron = NeuronaPerceptron(entradas=2, salidas=1)\n",
    "salidas = perceptron.predecir_feedforward(\n",
    "    df_casas.loc[0:0, ['Precio_', 'Area_']].to_numpy().flatten()\n",
    ")\n",
    "\n",
    "salidas"
   ]
  },
  {
   "cell_type": "code",
   "execution_count": null,
   "id": "ea7f66d5",
   "metadata": {},
   "outputs": [
    {
     "data": {
      "application/vnd.microsoft.datawrangler.viewer.v0+json": {
       "columns": [
        {
         "name": "index",
         "rawType": "int64",
         "type": "integer"
        },
        {
         "name": "Precio",
         "rawType": "int64",
         "type": "integer"
        },
        {
         "name": "Area",
         "rawType": "int64",
         "type": "integer"
        },
        {
         "name": "Decision",
         "rawType": "object",
         "type": "string"
        },
        {
         "name": "Precio_",
         "rawType": "float64",
         "type": "float"
        },
        {
         "name": "Area_",
         "rawType": "float64",
         "type": "float"
        },
        {
         "name": "Decision_",
         "rawType": "int64",
         "type": "integer"
        },
        {
         "name": "y_p1",
         "rawType": "float64",
         "type": "float"
        }
       ],
       "ref": "861b03e8-cec8-4d6a-90d3-5a464b604032",
       "rows": [
        [
         "0",
         "151958",
         "307",
         "Comprar",
         "0.2077160176718381",
         "0.5592417061611374",
         "1",
         "1.0"
        ],
        [
         "1",
         "176867",
         "393",
         "Comprar",
         "0.27169680468509194",
         "0.7630331753554502",
         "1",
         "1.0"
        ],
        [
         "2",
         "161932",
         "463",
         "Comprar",
         "0.23333504572074387",
         "0.9289099526066351",
         "1",
         "1.0"
        ],
        [
         "3",
         "395838",
         "343",
         "No_Comprar",
         "0.8341415801911024",
         "0.6445497630331753",
         "0",
         "1.0"
        ],
        [
         "4",
         "289178",
         "435",
         "No_Comprar",
         "0.5601767183807664",
         "0.8625592417061612",
         "0",
         "1.0"
        ],
        [
         "5",
         "149879",
         "241",
         "Comprar",
         "0.20237593753210725",
         "0.4028436018957346",
         "1",
         "1.0"
        ],
        [
         "6",
         "140268",
         "493",
         "Comprar",
         "0.17768930442823386",
         "1.0",
         "1",
         "1.0"
        ],
        [
         "7",
         "237892",
         "326",
         "No_Comprar",
         "0.4284444672762766",
         "0.6042654028436019",
         "0",
         "1.0"
        ],
        [
         "8",
         "84886",
         "210",
         "Comprar",
         "0.03543614507346142",
         "0.3293838862559242",
         "1",
         "1.0"
        ],
        [
         "9",
         "167337",
         "363",
         "Comprar",
         "0.24721822665159765",
         "0.6919431279620853",
         "1",
         "1.0"
        ],
        [
         "10",
         "460410",
         "71",
         "No_Comprar",
         "1.0",
         "0.0",
         "0",
         "1.0"
        ],
        [
         "11",
         "117498",
         "302",
         "Comprar",
         "0.11920271242165828",
         "0.54739336492891",
         "1",
         "1.0"
        ],
        [
         "12",
         "404871",
         "285",
         "No_Comprar",
         "0.8573435734100483",
         "0.5071090047393365",
         "0",
         "1.0"
        ],
        [
         "13",
         "418468",
         "394",
         "No_Comprar",
         "0.8922685708414672",
         "0.7654028436018957",
         "0",
         "1.0"
        ],
        [
         "14",
         "205203",
         "98",
         "No_Comprar",
         "0.34448011918216376",
         "0.06398104265402843",
         "0",
         "1.0"
        ],
        [
         "15",
         "221335",
         "108",
         "No_Comprar",
         "0.38591646974211447",
         "0.08767772511848342",
         "0",
         "1.0"
        ],
        [
         "16",
         "308167",
         "219",
         "No_Comprar",
         "0.6089515051885338",
         "0.35071090047393366",
         "0",
         "1.0"
        ],
        [
         "17",
         "71090",
         "237",
         "Comprar",
         "0.0",
         "0.3933649289099526",
         "1",
         "1.0"
        ],
        [
         "18",
         "359365",
         "320",
         "No_Comprar",
         "0.7404577211548341",
         "0.590047393364929",
         "0",
         "1.0"
        ],
        [
         "19",
         "94820",
         "239",
         "Comprar",
         "0.06095242987773554",
         "0.3981042654028436",
         "1",
         "1.0"
        ]
       ],
       "shape": {
        "columns": 7,
        "rows": 20
       }
      },
      "text/html": [
       "<div>\n",
       "<style scoped>\n",
       "    .dataframe tbody tr th:only-of-type {\n",
       "        vertical-align: middle;\n",
       "    }\n",
       "\n",
       "    .dataframe tbody tr th {\n",
       "        vertical-align: top;\n",
       "    }\n",
       "\n",
       "    .dataframe thead th {\n",
       "        text-align: right;\n",
       "    }\n",
       "</style>\n",
       "<table border=\"1\" class=\"dataframe\">\n",
       "  <thead>\n",
       "    <tr style=\"text-align: right;\">\n",
       "      <th></th>\n",
       "      <th>Precio</th>\n",
       "      <th>Area</th>\n",
       "      <th>Decision</th>\n",
       "      <th>Precio_</th>\n",
       "      <th>Area_</th>\n",
       "      <th>Decision_</th>\n",
       "      <th>y_p1</th>\n",
       "    </tr>\n",
       "  </thead>\n",
       "  <tbody>\n",
       "    <tr>\n",
       "      <th>0</th>\n",
       "      <td>151958</td>\n",
       "      <td>307</td>\n",
       "      <td>Comprar</td>\n",
       "      <td>0.207716</td>\n",
       "      <td>0.559242</td>\n",
       "      <td>1</td>\n",
       "      <td>1.0</td>\n",
       "    </tr>\n",
       "    <tr>\n",
       "      <th>1</th>\n",
       "      <td>176867</td>\n",
       "      <td>393</td>\n",
       "      <td>Comprar</td>\n",
       "      <td>0.271697</td>\n",
       "      <td>0.763033</td>\n",
       "      <td>1</td>\n",
       "      <td>1.0</td>\n",
       "    </tr>\n",
       "    <tr>\n",
       "      <th>2</th>\n",
       "      <td>161932</td>\n",
       "      <td>463</td>\n",
       "      <td>Comprar</td>\n",
       "      <td>0.233335</td>\n",
       "      <td>0.928910</td>\n",
       "      <td>1</td>\n",
       "      <td>1.0</td>\n",
       "    </tr>\n",
       "    <tr>\n",
       "      <th>3</th>\n",
       "      <td>395838</td>\n",
       "      <td>343</td>\n",
       "      <td>No_Comprar</td>\n",
       "      <td>0.834142</td>\n",
       "      <td>0.644550</td>\n",
       "      <td>0</td>\n",
       "      <td>1.0</td>\n",
       "    </tr>\n",
       "    <tr>\n",
       "      <th>4</th>\n",
       "      <td>289178</td>\n",
       "      <td>435</td>\n",
       "      <td>No_Comprar</td>\n",
       "      <td>0.560177</td>\n",
       "      <td>0.862559</td>\n",
       "      <td>0</td>\n",
       "      <td>1.0</td>\n",
       "    </tr>\n",
       "    <tr>\n",
       "      <th>5</th>\n",
       "      <td>149879</td>\n",
       "      <td>241</td>\n",
       "      <td>Comprar</td>\n",
       "      <td>0.202376</td>\n",
       "      <td>0.402844</td>\n",
       "      <td>1</td>\n",
       "      <td>1.0</td>\n",
       "    </tr>\n",
       "    <tr>\n",
       "      <th>6</th>\n",
       "      <td>140268</td>\n",
       "      <td>493</td>\n",
       "      <td>Comprar</td>\n",
       "      <td>0.177689</td>\n",
       "      <td>1.000000</td>\n",
       "      <td>1</td>\n",
       "      <td>1.0</td>\n",
       "    </tr>\n",
       "    <tr>\n",
       "      <th>7</th>\n",
       "      <td>237892</td>\n",
       "      <td>326</td>\n",
       "      <td>No_Comprar</td>\n",
       "      <td>0.428444</td>\n",
       "      <td>0.604265</td>\n",
       "      <td>0</td>\n",
       "      <td>1.0</td>\n",
       "    </tr>\n",
       "    <tr>\n",
       "      <th>8</th>\n",
       "      <td>84886</td>\n",
       "      <td>210</td>\n",
       "      <td>Comprar</td>\n",
       "      <td>0.035436</td>\n",
       "      <td>0.329384</td>\n",
       "      <td>1</td>\n",
       "      <td>1.0</td>\n",
       "    </tr>\n",
       "    <tr>\n",
       "      <th>9</th>\n",
       "      <td>167337</td>\n",
       "      <td>363</td>\n",
       "      <td>Comprar</td>\n",
       "      <td>0.247218</td>\n",
       "      <td>0.691943</td>\n",
       "      <td>1</td>\n",
       "      <td>1.0</td>\n",
       "    </tr>\n",
       "    <tr>\n",
       "      <th>10</th>\n",
       "      <td>460410</td>\n",
       "      <td>71</td>\n",
       "      <td>No_Comprar</td>\n",
       "      <td>1.000000</td>\n",
       "      <td>0.000000</td>\n",
       "      <td>0</td>\n",
       "      <td>1.0</td>\n",
       "    </tr>\n",
       "    <tr>\n",
       "      <th>11</th>\n",
       "      <td>117498</td>\n",
       "      <td>302</td>\n",
       "      <td>Comprar</td>\n",
       "      <td>0.119203</td>\n",
       "      <td>0.547393</td>\n",
       "      <td>1</td>\n",
       "      <td>1.0</td>\n",
       "    </tr>\n",
       "    <tr>\n",
       "      <th>12</th>\n",
       "      <td>404871</td>\n",
       "      <td>285</td>\n",
       "      <td>No_Comprar</td>\n",
       "      <td>0.857344</td>\n",
       "      <td>0.507109</td>\n",
       "      <td>0</td>\n",
       "      <td>1.0</td>\n",
       "    </tr>\n",
       "    <tr>\n",
       "      <th>13</th>\n",
       "      <td>418468</td>\n",
       "      <td>394</td>\n",
       "      <td>No_Comprar</td>\n",
       "      <td>0.892269</td>\n",
       "      <td>0.765403</td>\n",
       "      <td>0</td>\n",
       "      <td>1.0</td>\n",
       "    </tr>\n",
       "    <tr>\n",
       "      <th>14</th>\n",
       "      <td>205203</td>\n",
       "      <td>98</td>\n",
       "      <td>No_Comprar</td>\n",
       "      <td>0.344480</td>\n",
       "      <td>0.063981</td>\n",
       "      <td>0</td>\n",
       "      <td>1.0</td>\n",
       "    </tr>\n",
       "    <tr>\n",
       "      <th>15</th>\n",
       "      <td>221335</td>\n",
       "      <td>108</td>\n",
       "      <td>No_Comprar</td>\n",
       "      <td>0.385916</td>\n",
       "      <td>0.087678</td>\n",
       "      <td>0</td>\n",
       "      <td>1.0</td>\n",
       "    </tr>\n",
       "    <tr>\n",
       "      <th>16</th>\n",
       "      <td>308167</td>\n",
       "      <td>219</td>\n",
       "      <td>No_Comprar</td>\n",
       "      <td>0.608952</td>\n",
       "      <td>0.350711</td>\n",
       "      <td>0</td>\n",
       "      <td>1.0</td>\n",
       "    </tr>\n",
       "    <tr>\n",
       "      <th>17</th>\n",
       "      <td>71090</td>\n",
       "      <td>237</td>\n",
       "      <td>Comprar</td>\n",
       "      <td>0.000000</td>\n",
       "      <td>0.393365</td>\n",
       "      <td>1</td>\n",
       "      <td>1.0</td>\n",
       "    </tr>\n",
       "    <tr>\n",
       "      <th>18</th>\n",
       "      <td>359365</td>\n",
       "      <td>320</td>\n",
       "      <td>No_Comprar</td>\n",
       "      <td>0.740458</td>\n",
       "      <td>0.590047</td>\n",
       "      <td>0</td>\n",
       "      <td>1.0</td>\n",
       "    </tr>\n",
       "    <tr>\n",
       "      <th>19</th>\n",
       "      <td>94820</td>\n",
       "      <td>239</td>\n",
       "      <td>Comprar</td>\n",
       "      <td>0.060952</td>\n",
       "      <td>0.398104</td>\n",
       "      <td>1</td>\n",
       "      <td>1.0</td>\n",
       "    </tr>\n",
       "  </tbody>\n",
       "</table>\n",
       "</div>"
      ],
      "text/plain": [
       "    Precio  Area    Decision   Precio_     Area_  Decision_  y_p1\n",
       "0   151958   307     Comprar  0.207716  0.559242          1   1.0\n",
       "1   176867   393     Comprar  0.271697  0.763033          1   1.0\n",
       "2   161932   463     Comprar  0.233335  0.928910          1   1.0\n",
       "3   395838   343  No_Comprar  0.834142  0.644550          0   1.0\n",
       "4   289178   435  No_Comprar  0.560177  0.862559          0   1.0\n",
       "5   149879   241     Comprar  0.202376  0.402844          1   1.0\n",
       "6   140268   493     Comprar  0.177689  1.000000          1   1.0\n",
       "7   237892   326  No_Comprar  0.428444  0.604265          0   1.0\n",
       "8    84886   210     Comprar  0.035436  0.329384          1   1.0\n",
       "9   167337   363     Comprar  0.247218  0.691943          1   1.0\n",
       "10  460410    71  No_Comprar  1.000000  0.000000          0   1.0\n",
       "11  117498   302     Comprar  0.119203  0.547393          1   1.0\n",
       "12  404871   285  No_Comprar  0.857344  0.507109          0   1.0\n",
       "13  418468   394  No_Comprar  0.892269  0.765403          0   1.0\n",
       "14  205203    98  No_Comprar  0.344480  0.063981          0   1.0\n",
       "15  221335   108  No_Comprar  0.385916  0.087678          0   1.0\n",
       "16  308167   219  No_Comprar  0.608952  0.350711          0   1.0\n",
       "17   71090   237     Comprar  0.000000  0.393365          1   1.0\n",
       "18  359365   320  No_Comprar  0.740458  0.590047          0   1.0\n",
       "19   94820   239     Comprar  0.060952  0.398104          1   1.0"
      ]
     },
     "execution_count": 24,
     "metadata": {},
     "output_type": "execute_result"
    }
   ],
   "source": [
    "df_casas[\"y_p1\"] = np.nan\n",
    "\n",
    "for indice, muestra_fila in df_casas.iterrows():\n",
    "    muestra_datos = muestra_fila[[\"Precio_\", \"Area_\"]].to_numpy().flatten()\n",
    "    salida = perceptron.predecir_feedforward(muestra_datos)\n",
    "    df_casas.at[indice, \"y_p1\"] = np.int8(salida)\n",
    "\n",
    "df_casas"
   ]
  },
  {
   "cell_type": "code",
   "execution_count": null,
   "id": "4981f595",
   "metadata": {},
   "outputs": [],
   "source": [
    "df_casas"
   ]
  },
  {
   "cell_type": "code",
   "execution_count": 29,
   "id": "bd219e63",
   "metadata": {},
   "outputs": [
    {
     "name": "stdout",
     "output_type": "stream",
     "text": [
      "[1, 1, 1, 1, 1, 1, 1, 1, 1, 1, 1, 1, 1, 1, 1, 1, 1, 1, 1, 1]\n",
      "[1, 1, 1, 0, 0, 1, 1, 0, 1, 1, 0, 1, 0, 0, 0, 0, 0, 1, 0, 1]\n"
     ]
    }
   ],
   "source": [
    "datos_entrada = df_casas.loc[:, ['Precio_', 'Area_']].to_numpy()\n",
    "datos_salida_real = df_casas.loc[:, ['Decision_']].to_numpy()\n",
    "\n",
    "# Sin entrenar\n",
    "perceptron_sin = NeuronaPerceptron(entradas=2, salidas=1)\n",
    "salidas_sin = perceptron_sin.predecir_feedforward(datos_entrada)\n",
    "\n",
    "# Entrenar\n",
    "perceptron_20 = NeuronaPerceptron(entradas=2, salidas=1)\n",
    "perceptron_20.entrenar_ajustar(datos_entrada,datos_salida_real, 0.025, 20)\n",
    "\n",
    "salidas_entranadas = perceptron_20.predecir_feedforward(datos_entrada)\n",
    "\n",
    "print(salidas_sin)\n",
    "print(salidas_entranadas)"
   ]
  },
  {
   "cell_type": "code",
   "execution_count": 31,
   "id": "1b16cb17",
   "metadata": {},
   "outputs": [
    {
     "data": {
      "application/vnd.microsoft.datawrangler.viewer.v0+json": {
       "columns": [
        {
         "name": "index",
         "rawType": "int64",
         "type": "integer"
        },
        {
         "name": "Precio",
         "rawType": "int64",
         "type": "integer"
        },
        {
         "name": "Area",
         "rawType": "int64",
         "type": "integer"
        },
        {
         "name": "Decision",
         "rawType": "object",
         "type": "string"
        },
        {
         "name": "Precio_",
         "rawType": "float64",
         "type": "float"
        },
        {
         "name": "Area_",
         "rawType": "float64",
         "type": "float"
        },
        {
         "name": "Decision_",
         "rawType": "int64",
         "type": "integer"
        },
        {
         "name": "y_p1",
         "rawType": "float64",
         "type": "float"
        },
        {
         "name": "y_p2",
         "rawType": "float64",
         "type": "float"
        }
       ],
       "ref": "ca30e287-edfe-4868-a2fb-b0a1b86e02d4",
       "rows": [
        [
         "0",
         "151958",
         "307",
         "Comprar",
         "0.2077160176718381",
         "0.5592417061611374",
         "1",
         "1.0",
         "1.0"
        ],
        [
         "1",
         "176867",
         "393",
         "Comprar",
         "0.27169680468509194",
         "0.7630331753554502",
         "1",
         "1.0",
         "1.0"
        ],
        [
         "2",
         "161932",
         "463",
         "Comprar",
         "0.23333504572074387",
         "0.9289099526066351",
         "1",
         "1.0",
         "1.0"
        ],
        [
         "3",
         "395838",
         "343",
         "No_Comprar",
         "0.8341415801911024",
         "0.6445497630331753",
         "0",
         "1.0",
         "0.0"
        ],
        [
         "4",
         "289178",
         "435",
         "No_Comprar",
         "0.5601767183807664",
         "0.8625592417061612",
         "0",
         "1.0",
         "0.0"
        ],
        [
         "5",
         "149879",
         "241",
         "Comprar",
         "0.20237593753210725",
         "0.4028436018957346",
         "1",
         "1.0",
         "1.0"
        ],
        [
         "6",
         "140268",
         "493",
         "Comprar",
         "0.17768930442823386",
         "1.0",
         "1",
         "1.0",
         "1.0"
        ],
        [
         "7",
         "237892",
         "326",
         "No_Comprar",
         "0.4284444672762766",
         "0.6042654028436019",
         "0",
         "1.0",
         "0.0"
        ],
        [
         "8",
         "84886",
         "210",
         "Comprar",
         "0.03543614507346142",
         "0.3293838862559242",
         "1",
         "1.0",
         "1.0"
        ],
        [
         "9",
         "167337",
         "363",
         "Comprar",
         "0.24721822665159765",
         "0.6919431279620853",
         "1",
         "1.0",
         "1.0"
        ],
        [
         "10",
         "460410",
         "71",
         "No_Comprar",
         "1.0",
         "0.0",
         "0",
         "1.0",
         "0.0"
        ],
        [
         "11",
         "117498",
         "302",
         "Comprar",
         "0.11920271242165828",
         "0.54739336492891",
         "1",
         "1.0",
         "1.0"
        ],
        [
         "12",
         "404871",
         "285",
         "No_Comprar",
         "0.8573435734100483",
         "0.5071090047393365",
         "0",
         "1.0",
         "0.0"
        ],
        [
         "13",
         "418468",
         "394",
         "No_Comprar",
         "0.8922685708414672",
         "0.7654028436018957",
         "0",
         "1.0",
         "0.0"
        ],
        [
         "14",
         "205203",
         "98",
         "No_Comprar",
         "0.34448011918216376",
         "0.06398104265402843",
         "0",
         "1.0",
         "0.0"
        ],
        [
         "15",
         "221335",
         "108",
         "No_Comprar",
         "0.38591646974211447",
         "0.08767772511848342",
         "0",
         "1.0",
         "0.0"
        ],
        [
         "16",
         "308167",
         "219",
         "No_Comprar",
         "0.6089515051885338",
         "0.35071090047393366",
         "0",
         "1.0",
         "0.0"
        ],
        [
         "17",
         "71090",
         "237",
         "Comprar",
         "0.0",
         "0.3933649289099526",
         "1",
         "1.0",
         "1.0"
        ],
        [
         "18",
         "359365",
         "320",
         "No_Comprar",
         "0.7404577211548341",
         "0.590047393364929",
         "0",
         "1.0",
         "0.0"
        ],
        [
         "19",
         "94820",
         "239",
         "Comprar",
         "0.06095242987773554",
         "0.3981042654028436",
         "1",
         "1.0",
         "1.0"
        ]
       ],
       "shape": {
        "columns": 8,
        "rows": 20
       }
      },
      "text/html": [
       "<div>\n",
       "<style scoped>\n",
       "    .dataframe tbody tr th:only-of-type {\n",
       "        vertical-align: middle;\n",
       "    }\n",
       "\n",
       "    .dataframe tbody tr th {\n",
       "        vertical-align: top;\n",
       "    }\n",
       "\n",
       "    .dataframe thead th {\n",
       "        text-align: right;\n",
       "    }\n",
       "</style>\n",
       "<table border=\"1\" class=\"dataframe\">\n",
       "  <thead>\n",
       "    <tr style=\"text-align: right;\">\n",
       "      <th></th>\n",
       "      <th>Precio</th>\n",
       "      <th>Area</th>\n",
       "      <th>Decision</th>\n",
       "      <th>Precio_</th>\n",
       "      <th>Area_</th>\n",
       "      <th>Decision_</th>\n",
       "      <th>y_p1</th>\n",
       "      <th>y_p2</th>\n",
       "    </tr>\n",
       "  </thead>\n",
       "  <tbody>\n",
       "    <tr>\n",
       "      <th>0</th>\n",
       "      <td>151958</td>\n",
       "      <td>307</td>\n",
       "      <td>Comprar</td>\n",
       "      <td>0.207716</td>\n",
       "      <td>0.559242</td>\n",
       "      <td>1</td>\n",
       "      <td>1.0</td>\n",
       "      <td>1.0</td>\n",
       "    </tr>\n",
       "    <tr>\n",
       "      <th>1</th>\n",
       "      <td>176867</td>\n",
       "      <td>393</td>\n",
       "      <td>Comprar</td>\n",
       "      <td>0.271697</td>\n",
       "      <td>0.763033</td>\n",
       "      <td>1</td>\n",
       "      <td>1.0</td>\n",
       "      <td>1.0</td>\n",
       "    </tr>\n",
       "    <tr>\n",
       "      <th>2</th>\n",
       "      <td>161932</td>\n",
       "      <td>463</td>\n",
       "      <td>Comprar</td>\n",
       "      <td>0.233335</td>\n",
       "      <td>0.928910</td>\n",
       "      <td>1</td>\n",
       "      <td>1.0</td>\n",
       "      <td>1.0</td>\n",
       "    </tr>\n",
       "    <tr>\n",
       "      <th>3</th>\n",
       "      <td>395838</td>\n",
       "      <td>343</td>\n",
       "      <td>No_Comprar</td>\n",
       "      <td>0.834142</td>\n",
       "      <td>0.644550</td>\n",
       "      <td>0</td>\n",
       "      <td>1.0</td>\n",
       "      <td>0.0</td>\n",
       "    </tr>\n",
       "    <tr>\n",
       "      <th>4</th>\n",
       "      <td>289178</td>\n",
       "      <td>435</td>\n",
       "      <td>No_Comprar</td>\n",
       "      <td>0.560177</td>\n",
       "      <td>0.862559</td>\n",
       "      <td>0</td>\n",
       "      <td>1.0</td>\n",
       "      <td>0.0</td>\n",
       "    </tr>\n",
       "    <tr>\n",
       "      <th>5</th>\n",
       "      <td>149879</td>\n",
       "      <td>241</td>\n",
       "      <td>Comprar</td>\n",
       "      <td>0.202376</td>\n",
       "      <td>0.402844</td>\n",
       "      <td>1</td>\n",
       "      <td>1.0</td>\n",
       "      <td>1.0</td>\n",
       "    </tr>\n",
       "    <tr>\n",
       "      <th>6</th>\n",
       "      <td>140268</td>\n",
       "      <td>493</td>\n",
       "      <td>Comprar</td>\n",
       "      <td>0.177689</td>\n",
       "      <td>1.000000</td>\n",
       "      <td>1</td>\n",
       "      <td>1.0</td>\n",
       "      <td>1.0</td>\n",
       "    </tr>\n",
       "    <tr>\n",
       "      <th>7</th>\n",
       "      <td>237892</td>\n",
       "      <td>326</td>\n",
       "      <td>No_Comprar</td>\n",
       "      <td>0.428444</td>\n",
       "      <td>0.604265</td>\n",
       "      <td>0</td>\n",
       "      <td>1.0</td>\n",
       "      <td>0.0</td>\n",
       "    </tr>\n",
       "    <tr>\n",
       "      <th>8</th>\n",
       "      <td>84886</td>\n",
       "      <td>210</td>\n",
       "      <td>Comprar</td>\n",
       "      <td>0.035436</td>\n",
       "      <td>0.329384</td>\n",
       "      <td>1</td>\n",
       "      <td>1.0</td>\n",
       "      <td>1.0</td>\n",
       "    </tr>\n",
       "    <tr>\n",
       "      <th>9</th>\n",
       "      <td>167337</td>\n",
       "      <td>363</td>\n",
       "      <td>Comprar</td>\n",
       "      <td>0.247218</td>\n",
       "      <td>0.691943</td>\n",
       "      <td>1</td>\n",
       "      <td>1.0</td>\n",
       "      <td>1.0</td>\n",
       "    </tr>\n",
       "    <tr>\n",
       "      <th>10</th>\n",
       "      <td>460410</td>\n",
       "      <td>71</td>\n",
       "      <td>No_Comprar</td>\n",
       "      <td>1.000000</td>\n",
       "      <td>0.000000</td>\n",
       "      <td>0</td>\n",
       "      <td>1.0</td>\n",
       "      <td>0.0</td>\n",
       "    </tr>\n",
       "    <tr>\n",
       "      <th>11</th>\n",
       "      <td>117498</td>\n",
       "      <td>302</td>\n",
       "      <td>Comprar</td>\n",
       "      <td>0.119203</td>\n",
       "      <td>0.547393</td>\n",
       "      <td>1</td>\n",
       "      <td>1.0</td>\n",
       "      <td>1.0</td>\n",
       "    </tr>\n",
       "    <tr>\n",
       "      <th>12</th>\n",
       "      <td>404871</td>\n",
       "      <td>285</td>\n",
       "      <td>No_Comprar</td>\n",
       "      <td>0.857344</td>\n",
       "      <td>0.507109</td>\n",
       "      <td>0</td>\n",
       "      <td>1.0</td>\n",
       "      <td>0.0</td>\n",
       "    </tr>\n",
       "    <tr>\n",
       "      <th>13</th>\n",
       "      <td>418468</td>\n",
       "      <td>394</td>\n",
       "      <td>No_Comprar</td>\n",
       "      <td>0.892269</td>\n",
       "      <td>0.765403</td>\n",
       "      <td>0</td>\n",
       "      <td>1.0</td>\n",
       "      <td>0.0</td>\n",
       "    </tr>\n",
       "    <tr>\n",
       "      <th>14</th>\n",
       "      <td>205203</td>\n",
       "      <td>98</td>\n",
       "      <td>No_Comprar</td>\n",
       "      <td>0.344480</td>\n",
       "      <td>0.063981</td>\n",
       "      <td>0</td>\n",
       "      <td>1.0</td>\n",
       "      <td>0.0</td>\n",
       "    </tr>\n",
       "    <tr>\n",
       "      <th>15</th>\n",
       "      <td>221335</td>\n",
       "      <td>108</td>\n",
       "      <td>No_Comprar</td>\n",
       "      <td>0.385916</td>\n",
       "      <td>0.087678</td>\n",
       "      <td>0</td>\n",
       "      <td>1.0</td>\n",
       "      <td>0.0</td>\n",
       "    </tr>\n",
       "    <tr>\n",
       "      <th>16</th>\n",
       "      <td>308167</td>\n",
       "      <td>219</td>\n",
       "      <td>No_Comprar</td>\n",
       "      <td>0.608952</td>\n",
       "      <td>0.350711</td>\n",
       "      <td>0</td>\n",
       "      <td>1.0</td>\n",
       "      <td>0.0</td>\n",
       "    </tr>\n",
       "    <tr>\n",
       "      <th>17</th>\n",
       "      <td>71090</td>\n",
       "      <td>237</td>\n",
       "      <td>Comprar</td>\n",
       "      <td>0.000000</td>\n",
       "      <td>0.393365</td>\n",
       "      <td>1</td>\n",
       "      <td>1.0</td>\n",
       "      <td>1.0</td>\n",
       "    </tr>\n",
       "    <tr>\n",
       "      <th>18</th>\n",
       "      <td>359365</td>\n",
       "      <td>320</td>\n",
       "      <td>No_Comprar</td>\n",
       "      <td>0.740458</td>\n",
       "      <td>0.590047</td>\n",
       "      <td>0</td>\n",
       "      <td>1.0</td>\n",
       "      <td>0.0</td>\n",
       "    </tr>\n",
       "    <tr>\n",
       "      <th>19</th>\n",
       "      <td>94820</td>\n",
       "      <td>239</td>\n",
       "      <td>Comprar</td>\n",
       "      <td>0.060952</td>\n",
       "      <td>0.398104</td>\n",
       "      <td>1</td>\n",
       "      <td>1.0</td>\n",
       "      <td>1.0</td>\n",
       "    </tr>\n",
       "  </tbody>\n",
       "</table>\n",
       "</div>"
      ],
      "text/plain": [
       "    Precio  Area    Decision   Precio_     Area_  Decision_  y_p1  y_p2\n",
       "0   151958   307     Comprar  0.207716  0.559242          1   1.0   1.0\n",
       "1   176867   393     Comprar  0.271697  0.763033          1   1.0   1.0\n",
       "2   161932   463     Comprar  0.233335  0.928910          1   1.0   1.0\n",
       "3   395838   343  No_Comprar  0.834142  0.644550          0   1.0   0.0\n",
       "4   289178   435  No_Comprar  0.560177  0.862559          0   1.0   0.0\n",
       "5   149879   241     Comprar  0.202376  0.402844          1   1.0   1.0\n",
       "6   140268   493     Comprar  0.177689  1.000000          1   1.0   1.0\n",
       "7   237892   326  No_Comprar  0.428444  0.604265          0   1.0   0.0\n",
       "8    84886   210     Comprar  0.035436  0.329384          1   1.0   1.0\n",
       "9   167337   363     Comprar  0.247218  0.691943          1   1.0   1.0\n",
       "10  460410    71  No_Comprar  1.000000  0.000000          0   1.0   0.0\n",
       "11  117498   302     Comprar  0.119203  0.547393          1   1.0   1.0\n",
       "12  404871   285  No_Comprar  0.857344  0.507109          0   1.0   0.0\n",
       "13  418468   394  No_Comprar  0.892269  0.765403          0   1.0   0.0\n",
       "14  205203    98  No_Comprar  0.344480  0.063981          0   1.0   0.0\n",
       "15  221335   108  No_Comprar  0.385916  0.087678          0   1.0   0.0\n",
       "16  308167   219  No_Comprar  0.608952  0.350711          0   1.0   0.0\n",
       "17   71090   237     Comprar  0.000000  0.393365          1   1.0   1.0\n",
       "18  359365   320  No_Comprar  0.740458  0.590047          0   1.0   0.0\n",
       "19   94820   239     Comprar  0.060952  0.398104          1   1.0   1.0"
      ]
     },
     "execution_count": 31,
     "metadata": {},
     "output_type": "execute_result"
    }
   ],
   "source": [
    "df_casas[\"y_p2\"] = np.nan\n",
    "\n",
    "for indice, muestra_fila in df_casas.iterrows():\n",
    "    muestra_datos = muestra_fila[[\"Precio_\", \"Area_\"]].to_numpy().flatten()\n",
    "    salida = perceptron_20.predecir_feedforward(muestra_datos)\n",
    "    df_casas.at[indice, \"y_p2\"] = np.int8(salida)\n",
    "\n",
    "df_casas"
   ]
  }
 ],
 "metadata": {
  "kernelspec": {
   "display_name": "Python 3",
   "language": "python",
   "name": "python3"
  },
  "language_info": {
   "codemirror_mode": {
    "name": "ipython",
    "version": 3
   },
   "file_extension": ".py",
   "mimetype": "text/x-python",
   "name": "python",
   "nbconvert_exporter": "python",
   "pygments_lexer": "ipython3",
   "version": "3.12.6"
  }
 },
 "nbformat": 4,
 "nbformat_minor": 5
}

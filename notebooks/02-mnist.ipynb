{
 "cells": [
  {
   "cell_type": "code",
   "execution_count": 33,
   "id": "859303f4",
   "metadata": {},
   "outputs": [],
   "source": [
    "from scipy.io import loadmat\n",
    "import numpy as np\n",
    "import matplotlib.pyplot as plt"
   ]
  },
  {
   "cell_type": "code",
   "execution_count": 34,
   "id": "f6566689",
   "metadata": {},
   "outputs": [
    {
     "name": "stdout",
     "output_type": "stream",
     "text": [
      "dict_keys(['__header__', '__version__', '__globals__', 'mldata_descr_ordering', 'data', 'label'])\n",
      "[[0 0 0 ... 0 0 0]\n",
      " [0 0 0 ... 0 0 0]\n",
      " [0 0 0 ... 0 0 0]\n",
      " ...\n",
      " [0 0 0 ... 0 0 0]\n",
      " [0 0 0 ... 0 0 0]\n",
      " [0 0 0 ... 0 0 0]]\n",
      "[[0. 0. 0. ... 9. 9. 9.]]\n"
     ]
    }
   ],
   "source": [
    "mnist = loadmat(\"../data/mnist-original\")\n",
    "\n",
    "print(mnist.keys())\n",
    "print(mnist[\"data\"])\n",
    "print(mnist[\"label\"])"
   ]
  },
  {
   "cell_type": "code",
   "execution_count": 35,
   "id": "8e6cd404",
   "metadata": {},
   "outputs": [
    {
     "data": {
      "text/plain": [
       "array([[0., 0., 0., ..., 0., 0., 0.],\n",
       "       [0., 0., 0., ..., 0., 0., 0.],\n",
       "       [0., 0., 0., ..., 0., 0., 0.],\n",
       "       ...,\n",
       "       [0., 0., 0., ..., 0., 0., 0.],\n",
       "       [0., 0., 0., ..., 0., 0., 0.],\n",
       "       [0., 0., 0., ..., 0., 0., 0.]], shape=(70000, 784))"
      ]
     },
     "execution_count": 35,
     "metadata": {},
     "output_type": "execute_result"
    }
   ],
   "source": [
    "x = mnist[\"data\"].T # transponer para pasar filas a columnas y viceversa\n",
    "y = mnist[\"label\"][0] # obtener las etiquetas de los elementos\n",
    "\n",
    "x = x / 255 # normalizar entre 0 y 1\n",
    "y = y.astype(np.int8)\n",
    "\n",
    "x"
   ]
  },
  {
   "cell_type": "code",
   "execution_count": 36,
   "id": "176b414c",
   "metadata": {},
   "outputs": [
    {
     "data": {
      "image/png": "[encoded data removed]",
      "text/plain": [
       "<Figure size 640x480 with 1 Axes>"
      ]
     },
     "metadata": {},
     "output_type": "display_data"
    }
   ],
   "source": [
    "el_indice = 45000\n",
    "arreglo_imagen = np.array(x[el_indice])\n",
    "fig, ax = plt.subplots()\n",
    "ax.imshow(arreglo_imagen.reshape((28, 28)), cmap=\"gray\")\n",
    "ax.text(0, 2, \"Label: \" + str(y[el_indice]), ha=\"left\", va=\"bottom\", color='red')\n",
    "plt.show()"
   ]
  },
  {
   "cell_type": "code",
   "execution_count": 37,
   "id": "812c8f86",
   "metadata": {},
   "outputs": [
    {
     "data": {
      "text/plain": [
       "14780"
      ]
     },
     "execution_count": 37,
     "metadata": {},
     "output_type": "execute_result"
    }
   ],
   "source": [
    "# Seleccionar los indices de los números a predecir\n",
    "indices_0_1 = [i for i, j in enumerate(y) if j == 0 or j == 1]\n",
    "\n",
    "len(indices_0_1)"
   ]
  },
  {
   "cell_type": "code",
   "execution_count": 38,
   "id": "a8cc222b",
   "metadata": {},
   "outputs": [],
   "source": [
    "# Extraer los números y etiquetas\n",
    "x_0_1 = x[indices_0_1]\n",
    "y_0_1 = y[indices_0_1]"
   ]
  },
  {
   "cell_type": "code",
   "execution_count": 39,
   "id": "e1bf73c3",
   "metadata": {},
   "outputs": [],
   "source": [
    "# Seleccionar aleatoriamente los indices de los números\n",
    "indices_reordenados = np.random.permutation(len(indices_0_1))\n",
    "\n",
    "x_0_1 = x_0_1[indices_reordenados]\n",
    "y_0_1 = y_0_1[indices_reordenados]"
   ]
  },
  {
   "cell_type": "code",
   "execution_count": 40,
   "id": "190d80d0",
   "metadata": {},
   "outputs": [
    {
     "data": {
      "image/png": "[encoded data removed]",
      "text/plain": [
       "<Figure size 640x480 with 1 Axes>"
      ]
     },
     "metadata": {},
     "output_type": "display_data"
    }
   ],
   "source": [
    "el_indice = 5000\n",
    "arreglo_imagen = np.array(x_0_1[el_indice])\n",
    "fig, ax = plt.subplots()\n",
    "ax.imshow(arreglo_imagen.reshape((28, 28)), cmap=\"gray\")\n",
    "ax.text(0, 2, \"Label: \" + str(y_0_1[el_indice]), ha=\"left\", va=\"bottom\", color='red')\n",
    "plt.show()"
   ]
  },
  {
   "cell_type": "code",
   "execution_count": 41,
   "id": "d50182fb",
   "metadata": {},
   "outputs": [
    {
     "data": {
      "text/plain": [
       "11824"
      ]
     },
     "execution_count": 41,
     "metadata": {},
     "output_type": "execute_result"
    }
   ],
   "source": [
    "# Seleccinar aleatoriamente el conjunto de entrenamiento\n",
    "index_for_train = np.random.choice(x_0_1.shape[0], int(x_0_1.shape[0] * 0.8), replace=False)\n",
    "\n",
    "x_train = x_0_1[index_for_train]\n",
    "y_train = y_0_1[index_for_train]\n",
    "\n",
    "len(x_train)"
   ]
  },
  {
   "cell_type": "code",
   "execution_count": 42,
   "id": "387e19c9",
   "metadata": {},
   "outputs": [
    {
     "data": {
      "text/plain": [
       "2956"
      ]
     },
     "execution_count": 42,
     "metadata": {},
     "output_type": "execute_result"
    }
   ],
   "source": [
    "# Seleccionaremos el 20% restante para hacer las pruebas,\n",
    "# mediante operaciones de conjuntos.\n",
    "group_all_indexes_100p = set(range(x_0_1.shape[0])) \n",
    "group_selected_indexes_80p = set(index_for_train)\n",
    "group_not_selected_indexes_20p = group_all_indexes_100p - group_selected_indexes_80p\n",
    "group_not_selected_indexes_20p = list(group_not_selected_indexes_20p)\n",
    "\n",
    "x_test = x_0_1[group_not_selected_indexes_20p]\n",
    "y_test = y_0_1[group_not_selected_indexes_20p]\n",
    "\n",
    "len(x_test)"
   ]
  },
  {
   "cell_type": "code",
   "execution_count": 43,
   "id": "a211be44",
   "metadata": {},
   "outputs": [],
   "source": [
    "import sys\n",
    "sys.path.append(\"../libs\")\n",
    "import neuronas\n",
    "import importlib\n",
    "importlib.reload(neuronas)\n",
    "\n",
    "from neuronas import NeuronaPerceptron"
   ]
  },
  {
   "cell_type": "code",
   "execution_count": 45,
   "id": "8597d41f",
   "metadata": {},
   "outputs": [],
   "source": [
    "neurona_mnist_sn = NeuronaPerceptron(entradas=784, salidas=1)\n",
    "\n",
    "salida_sn = neurona_mnist_sn.predecir_feedforward(x_test)"
   ]
  },
  {
   "cell_type": "code",
   "execution_count": 64,
   "id": "4be517fe",
   "metadata": {},
   "outputs": [],
   "source": [
    "neurona_mnist_0 = NeuronaPerceptron(entradas=784, salidas=1)\n",
    "\n",
    "neurona_mnist_0.entrenar_ajustar(x_train, y_train, 0.025, 1)\n",
    "\n",
    "salida_0 = neurona_mnist_0.predecir_feedforward(x_test)"
   ]
  },
  {
   "cell_type": "code",
   "execution_count": 58,
   "id": "da6e5c2c",
   "metadata": {},
   "outputs": [],
   "source": [
    "neurona_mnist_1 = NeuronaPerceptron(entradas=784, salidas=1)\n",
    "\n",
    "neurona_mnist_1.entrenar_ajustar(x_train, y_train, 0.025, 2)\n",
    "\n",
    "salida_1 = neurona_mnist_1.predecir_feedforward(x_test)\n",
    "\n"
   ]
  },
  {
   "cell_type": "code",
   "execution_count": 47,
   "id": "4114148d",
   "metadata": {},
   "outputs": [
    {
     "name": "stdout",
     "output_type": "stream",
     "text": [
      "Sin entrenar: \n",
      "              precision    recall  f1-score   support\n",
      "\n",
      "           0       0.00      0.00      0.00      1348\n",
      "           1       0.54      1.00      0.70      1608\n",
      "\n",
      "    accuracy                           0.54      2956\n",
      "   macro avg       0.27      0.50      0.35      2956\n",
      "weighted avg       0.30      0.54      0.38      2956\n",
      "\n",
      "[[   0 1348]\n",
      " [   0 1608]]\n"
     ]
    },
    {
     "name": "stderr",
     "output_type": "stream",
     "text": [
      "c:\\Users\\balde\\anaconda3\\envs\\DL2025\\Lib\\site-packages\\sklearn\\metrics\\_classification.py:1565: UndefinedMetricWarning: Precision is ill-defined and being set to 0.0 in labels with no predicted samples. Use `zero_division` parameter to control this behavior.\n",
      "  _warn_prf(average, modifier, f\"{metric.capitalize()} is\", len(result))\n",
      "c:\\Users\\balde\\anaconda3\\envs\\DL2025\\Lib\\site-packages\\sklearn\\metrics\\_classification.py:1565: UndefinedMetricWarning: Precision is ill-defined and being set to 0.0 in labels with no predicted samples. Use `zero_division` parameter to control this behavior.\n",
      "  _warn_prf(average, modifier, f\"{metric.capitalize()} is\", len(result))\n",
      "c:\\Users\\balde\\anaconda3\\envs\\DL2025\\Lib\\site-packages\\sklearn\\metrics\\_classification.py:1565: UndefinedMetricWarning: Precision is ill-defined and being set to 0.0 in labels with no predicted samples. Use `zero_division` parameter to control this behavior.\n",
      "  _warn_prf(average, modifier, f\"{metric.capitalize()} is\", len(result))\n"
     ]
    }
   ],
   "source": [
    "from sklearn.metrics import classification_report, confusion_matrix \n",
    "print(\"Sin entrenar: \")\n",
    "print(classification_report(y_test, salida_sn))\n",
    "print(confusion_matrix(y_test, salida_sn))"
   ]
  },
  {
   "cell_type": "code",
   "execution_count": 65,
   "id": "6cd46efa",
   "metadata": {},
   "outputs": [
    {
     "name": "stdout",
     "output_type": "stream",
     "text": [
      "1 época: \n",
      "              precision    recall  f1-score   support\n",
      "\n",
      "           0       0.99      1.00      1.00      1385\n",
      "           1       1.00      0.99      1.00      1571\n",
      "\n",
      "    accuracy                           1.00      2956\n",
      "   macro avg       1.00      1.00      1.00      2956\n",
      "weighted avg       1.00      1.00      1.00      2956\n",
      "\n",
      "[[1383    2]\n",
      " [  10 1561]]\n"
     ]
    }
   ],
   "source": [
    "print(\"1 época: \")\n",
    "print(classification_report(y_test, salida_0))\n",
    "print(confusion_matrix(y_test, salida_0))"
   ]
  },
  {
   "cell_type": "code",
   "execution_count": null,
   "id": "144ed030",
   "metadata": {},
   "outputs": [
    {
     "name": "stdout",
     "output_type": "stream",
     "text": [
      "2 épocas: \n",
      "              precision    recall  f1-score   support\n",
      "\n",
      "           0       0.99      1.00      1.00      1385\n",
      "           1       1.00      1.00      1.00      1571\n",
      "\n",
      "    accuracy                           1.00      2956\n",
      "   macro avg       1.00      1.00      1.00      2956\n",
      "weighted avg       1.00      1.00      1.00      2956\n",
      "\n",
      "[[1384    1]\n",
      " [   7 1564]]\n"
     ]
    }
   ],
   "source": [
    "print(\"2 épocas: \")\n",
    "print(classification_report(y_test, salida_1))\n",
    "print(confusion_matrix(y_test, salida_1))"
   ]
  }
 ],
 "metadata": {
  "kernelspec": {
   "display_name": "DL2025",
   "language": "python",
   "name": "python3"
  },
  "language_info": {
   "codemirror_mode": {
    "name": "ipython",
    "version": 3
   },
   "file_extension": ".py",
   "mimetype": "text/x-python",
   "name": "python",
   "nbconvert_exporter": "python",
   "pygments_lexer": "ipython3",
   "version": "3.13.5"
  }
 },
 "nbformat": 4,
 "nbformat_minor": 5
}
